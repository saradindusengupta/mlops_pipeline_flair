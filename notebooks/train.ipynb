{
 "cells": [
  {
   "cell_type": "code",
   "execution_count": 1,
   "metadata": {},
   "outputs": [],
   "source": [
    "from flair.data import Corpus\n",
    "from flair.datasets import TREC_6\n",
    "from flair.embeddings import TransformerDocumentEmbeddings\n",
    "from flair.models import TextClassifier\n",
    "from flair.trainers import ModelTrainer\n",
    "from flair.datasets import CSVClassificationCorpus\n",
    "import wandb\n",
    "import yaml"
   ]
  },
  {
   "cell_type": "markdown",
   "metadata": {},
   "source": [
    "Setting up location variables"
   ]
  },
  {
   "cell_type": "code",
   "execution_count": 2,
   "metadata": {},
   "outputs": [],
   "source": [
    "working_dir = \"/home/saradindu/dev/mlops_pipeline_flair/\"\n",
    "with open(f\"{working_dir}/config/config.yaml\", 'r') as file:\n",
    "    config = yaml.safe_load(file)"
   ]
  },
  {
   "cell_type": "markdown",
   "metadata": {},
   "source": [
    "Creating a corpus and generating label dictionary"
   ]
  },
  {
   "cell_type": "code",
   "execution_count": 6,
   "metadata": {},
   "outputs": [
    {
     "name": "stdout",
     "output_type": "stream",
     "text": [
      "2024-02-15 01:49:23,488 Reading data from /home/saradindu/dev/mlops_pipeline_flair/data\n",
      "2024-02-15 01:49:23,491 Train: /home/saradindu/dev/mlops_pipeline_flair/data/train_small.csv\n",
      "2024-02-15 01:49:23,492 Dev: /home/saradindu/dev/mlops_pipeline_flair/data/dev_small.csv\n",
      "2024-02-15 01:49:23,492 Test: /home/saradindu/dev/mlops_pipeline_flair/data/test_small.csv\n",
      "2024-02-15 01:49:23,904 Computing label dictionary. Progress:\n"
     ]
    },
    {
     "name": "stderr",
     "output_type": "stream",
     "text": [
      "0it [00:00, ?it/s]\n",
      "100000it [00:13, 7318.96it/s]"
     ]
    },
    {
     "name": "stdout",
     "output_type": "stream",
     "text": [
      "2024-02-15 01:49:37,581 Dictionary created for label 'label' with 2 values: 0 (seen 66523 times), 1 (seen 33477 times)\n"
     ]
    },
    {
     "name": "stderr",
     "output_type": "stream",
     "text": [
      "\n"
     ]
    },
    {
     "name": "stdout",
     "output_type": "stream",
     "text": [
      "Dictionary with 2 tags: 0, 1\n"
     ]
    },
    {
     "data": {
      "application/vnd.jupyter.widget-view+json": {
       "model_id": "eb623f9286ae4f0289e2b339d5493bed",
       "version_major": 2,
       "version_minor": 0
      },
      "text/plain": [
       "Downloading:   0%|          | 0.00/28.0 [00:00<?, ?B/s]"
      ]
     },
     "metadata": {},
     "output_type": "display_data"
    },
    {
     "data": {
      "application/vnd.jupyter.widget-view+json": {
       "model_id": "7788adb2c3cc4e3abf696c25dcf7d360",
       "version_major": 2,
       "version_minor": 0
      },
      "text/plain": [
       "Downloading:   0%|          | 0.00/483 [00:00<?, ?B/s]"
      ]
     },
     "metadata": {},
     "output_type": "display_data"
    },
    {
     "data": {
      "application/vnd.jupyter.widget-view+json": {
       "model_id": "6f7d2cedaf5a4f4aa9b2e86d497d24b6",
       "version_major": 2,
       "version_minor": 0
      },
      "text/plain": [
       "Downloading:   0%|          | 0.00/232k [00:00<?, ?B/s]"
      ]
     },
     "metadata": {},
     "output_type": "display_data"
    },
    {
     "data": {
      "application/vnd.jupyter.widget-view+json": {
       "model_id": "02b6604f94134519b7b22e02fe1ed015",
       "version_major": 2,
       "version_minor": 0
      },
      "text/plain": [
       "Downloading:   0%|          | 0.00/466k [00:00<?, ?B/s]"
      ]
     },
     "metadata": {},
     "output_type": "display_data"
    },
    {
     "data": {
      "application/vnd.jupyter.widget-view+json": {
       "model_id": "57e087fae55b4e8eb22eb29bf632811d",
       "version_major": 2,
       "version_minor": 0
      },
      "text/plain": [
       "Downloading:   0%|          | 0.00/268M [00:00<?, ?B/s]"
      ]
     },
     "metadata": {},
     "output_type": "display_data"
    }
   ],
   "source": [
    "column_name_map = {0: \"text\", 1: \"label\"}\n",
    "corpus: Corpus = CSVClassificationCorpus(data_folder = f'{working_dir}/data',\n",
    "                                         train_file = 'train_small.csv',\n",
    "                                         dev_file = 'dev_small.csv',\n",
    "                                         test_file = 'test_small.csv',\n",
    "                                         column_name_map=column_name_map,\n",
    "                                         skip_header=True,\n",
    "                                         delimiter=',',\n",
    "                                         label_type='label')\n",
    "label_type = 'label'\n",
    "label_dict = corpus.make_label_dictionary(label_type=label_type)\n",
    "print(label_dict)\n",
    "document_embeddings = TransformerDocumentEmbeddings('distilbert-base-uncased', fine_tune=True)\n",
    "classifier = TextClassifier(document_embeddings, label_dictionary=label_dict, label_type=label_type)\n",
    "trainer = ModelTrainer(classifier, corpus)"
   ]
  },
  {
   "cell_type": "markdown",
   "metadata": {},
   "source": [
    "Initializing Weights and Biases instance for model metrcis logging and monitoring\n",
    "\n",
    "Also fine-tuning document embeddings"
   ]
  },
  {
   "cell_type": "code",
   "execution_count": null,
   "metadata": {},
   "outputs": [],
   "source": [
    "wandb.init(\n",
    "    # set the wandb project where this run will be logged\n",
    "    project=\"mlops_pipeline_flair\",\n",
    "    \n",
    "    # track hyperparameters and run metadata\n",
    "    config={\n",
    "    \"learning_rate\": config['fine_tuning']['learning_rate'],\n",
    "    \"architecture\": \"TransformerDocumentEmbeddings\",\n",
    "    \"dataset\": \"Custom\",\n",
    "    \"epochs\": config['fine_tuning']['max_epochs'],\n",
    "    }\n",
    ")\n",
    "trainer.fine_tune(f'{working_dir}/model',\n",
    "                  learning_rate=config['fine_tuning']['learning_rate'],\n",
    "                  mini_batch_size=config['fine_tuning']['mini_batch_size'],\n",
    "                  max_epochs=config['fine_tuning']['max_epochs'])\n",
    "wandb.finish()"
   ]
  },
  {
   "cell_type": "markdown",
   "metadata": {},
   "source": [
    "Logging the trained model as model artifact in model registry in Weights and Biases"
   ]
  },
  {
   "cell_type": "code",
   "execution_count": 7,
   "metadata": {},
   "outputs": [
    {
     "data": {
      "text/html": [
       "Waiting for W&B process to finish... <strong style=\"color:green\">(success).</strong>"
      ],
      "text/plain": [
       "<IPython.core.display.HTML object>"
      ]
     },
     "metadata": {},
     "output_type": "display_data"
    },
    {
     "name": "stderr",
     "output_type": "stream",
     "text": [
      "wandb: WARNING Source type is set to 'repo' but some required information is missing from the environment. A job will not be created from this run. See https://docs.wandb.ai/guides/launch/create-job\n"
     ]
    },
    {
     "data": {
      "text/html": [
       " View run <strong style=\"color:#cdcd00\">beloved-candy-heart-2</strong> at: <a href='https://wandb.ai/saradindusengupta2/mlops_pipeline_flair/runs/q6itgv2d' target=\"_blank\">https://wandb.ai/saradindusengupta2/mlops_pipeline_flair/runs/q6itgv2d</a><br/>Synced 7 W&B file(s), 0 media file(s), 1 artifact file(s) and 1 other file(s)"
      ],
      "text/plain": [
       "<IPython.core.display.HTML object>"
      ]
     },
     "metadata": {},
     "output_type": "display_data"
    },
    {
     "data": {
      "text/html": [
       "Find logs at: <code>./wandb/run-20240215_041203-q6itgv2d/logs</code>"
      ],
      "text/plain": [
       "<IPython.core.display.HTML object>"
      ]
     },
     "metadata": {},
     "output_type": "display_data"
    }
   ],
   "source": [
    "wandb.init(project=\"mlops_pipeline_flair\")\n",
    "art = wandb.Artifact(\"flair_text_classifier\", type=\"model\")\n",
    "art.add_file(f\"{working_dir}/model/final-model.pt\")\n",
    "wandb.log_artifact(art)"
   ]
  },
  {
   "cell_type": "markdown",
   "metadata": {},
   "source": [
    "Inferencing"
   ]
  },
  {
   "cell_type": "code",
   "execution_count": 3,
   "metadata": {},
   "outputs": [
    {
     "data": {
      "text/plain": [
       "['Sentence[1]: \"string\"'/'0' (0.5604)]"
      ]
     },
     "execution_count": 3,
     "metadata": {},
     "output_type": "execute_result"
    }
   ],
   "source": [
    "from flair.data import Sentence\n",
    "classifier = TextClassifier.load(f\"{working_dir}model/final-model.pt\")\n",
    "sentence = Sentence(\"string\")\n",
    "classifier.predict(sentence)\n",
    "sentence.labels"
   ]
  },
  {
   "cell_type": "code",
   "execution_count": 2,
   "metadata": {},
   "outputs": [],
   "source": [
    "from flair.models import TextClassifier\n",
    "from flair.data import Sentence\n",
    "import os\n",
    "\n",
    "stage = os.getenv(\"STAGE\")\n",
    "working_dir = \"/root/\"\n",
    "if(stage == \"dev\"):\n",
    "    working_dir = \"/home/saradindu/dev/mlops_pipeline_flair/\""
   ]
  },
  {
   "cell_type": "code",
   "execution_count": 22,
   "metadata": {},
   "outputs": [],
   "source": [
    "def classify_text(text):\n",
    "\n",
    "    \"\"\"\n",
    "    A small function to classify the incoming string.\n",
    "    ------------------------\n",
    "    Params:\n",
    "    classifier: The loaded model object.\n",
    "    sentence: A string to classify.\n",
    "    ------------------------\n",
    "    Output:\n",
    "    A list of tuples containing labels & probabilities.\n",
    "    \"\"\"\n",
    "    classifier = TextClassifier.load(f\"{working_dir}model/final-model.pt\")\n",
    "    sentence = Sentence(text)\n",
    "    classifier.predict(sentence)\n",
    "    return sentence"
   ]
  },
  {
   "cell_type": "code",
   "execution_count": 23,
   "metadata": {},
   "outputs": [],
   "source": [
    "r = classify_text(\"string\")"
   ]
  },
  {
   "cell_type": "code",
   "execution_count": 35,
   "metadata": {},
   "outputs": [],
   "source": [
    "t = r.to_dict()"
   ]
  },
  {
   "cell_type": "code",
   "execution_count": null,
   "metadata": {},
   "outputs": [],
   "source": [
    "t.keys"
   ]
  }
 ],
 "metadata": {
  "kernelspec": {
   "display_name": "base",
   "language": "python",
   "name": "python3"
  },
  "language_info": {
   "codemirror_mode": {
    "name": "ipython",
    "version": 3
   },
   "file_extension": ".py",
   "mimetype": "text/x-python",
   "name": "python",
   "nbconvert_exporter": "python",
   "pygments_lexer": "ipython3",
   "version": "3.10.9"
  },
  "orig_nbformat": 4
 },
 "nbformat": 4,
 "nbformat_minor": 2
}
